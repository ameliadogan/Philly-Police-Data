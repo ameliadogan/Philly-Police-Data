{
 "cells": [
  {
   "cell_type": "code",
   "execution_count": 2,
   "metadata": {},
   "outputs": [
    {
     "name": "stdout",
     "output_type": "stream",
     "text": [
      "hello\n"
     ]
    }
   ],
   "source": [
    "import pandas as pd\n",
    "import numpy as np\n",
    "\n",
    "url1 = 'ppd_complaints.csv'\n",
    "url2 = 'https://phl.carto.com/api/v2/sql?q=SELECT+*+FROM+ppd_complaint_disciplines&filename=ppd_complaint_disciplines&format=csv&skipfields=cartodb_id,the_geom,the_geom_webmercator'\n",
    "url3 = 'https://phl.carto.com/api/v2/sql?q=SELECT+*+FROM+ppd_complainant_demographics&filename=ppd_complainant_demographics&format=csv&skipfields=cartodb_id,the_geom,the_geom_webmercator'\n",
    "\n",
    "#complaint data\n",
    "df_complaints = pd.read_csv(url1)\n",
    "print(df_complaints.columns)\n",
    "df_complaints.head()\n",
    "print(\"hello\")\n",
    "\n",
    "# #outcome of complaint data\n",
    "# df_outcome = pd.read_csv(url2)\n",
    "# print(df_outcomes.columns)\n",
    "# df_outcomes.head()\n",
    "\n",
    "#complaint demographic data\n",
    "# df_dem = pd.read_csv(url3)\n",
    "# print(df_dem.columns)\n",
    "# df_dem.head()"
   ]
  },
  {
   "cell_type": "code",
   "execution_count": null,
   "metadata": {},
   "outputs": [],
   "source": []
  },
  {
   "cell_type": "code",
   "execution_count": null,
   "metadata": {},
   "outputs": [],
   "source": []
  }
 ],
 "metadata": {
  "kernelspec": {
   "display_name": "Python 3",
   "language": "python",
   "name": "python3"
  },
  "language_info": {
   "codemirror_mode": {
    "name": "ipython",
    "version": 3
   },
   "file_extension": ".py",
   "mimetype": "text/x-python",
   "name": "python",
   "nbconvert_exporter": "python",
   "pygments_lexer": "ipython3",
   "version": "3.7.4"
  }
 },
 "nbformat": 4,
 "nbformat_minor": 4
}
