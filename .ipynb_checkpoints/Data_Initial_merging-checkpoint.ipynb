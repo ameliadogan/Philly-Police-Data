{
 "cells": [
  {
   "cell_type": "code",
   "execution_count": 2,
   "metadata": {},
   "outputs": [
    {
     "name": "stdout",
     "output_type": "stream",
     "text": [
      "Index(['complaint_id', 'date_received', 'district_occurrence',\n",
      "       'general_cap_classification', 'summary'],\n",
      "      dtype='object')\n"
     ]
    },
    {
     "data": {
      "text/html": [
       "<div>\n",
       "<style scoped>\n",
       "    .dataframe tbody tr th:only-of-type {\n",
       "        vertical-align: middle;\n",
       "    }\n",
       "\n",
       "    .dataframe tbody tr th {\n",
       "        vertical-align: top;\n",
       "    }\n",
       "\n",
       "    .dataframe thead th {\n",
       "        text-align: right;\n",
       "    }\n",
       "</style>\n",
       "<table border=\"1\" class=\"dataframe\">\n",
       "  <thead>\n",
       "    <tr style=\"text-align: right;\">\n",
       "      <th></th>\n",
       "      <th>complaint_id</th>\n",
       "      <th>date_received</th>\n",
       "      <th>district_occurrence</th>\n",
       "      <th>general_cap_classification</th>\n",
       "      <th>summary</th>\n",
       "    </tr>\n",
       "  </thead>\n",
       "  <tbody>\n",
       "    <tr>\n",
       "      <td>0</td>\n",
       "      <td>15-0001</td>\n",
       "      <td>2015-01-05</td>\n",
       "      <td>1500</td>\n",
       "      <td>DEPARTMENTAL VIOLATIONS</td>\n",
       "      <td>According to the complainant, on 12-31-14 at 1...</td>\n",
       "    </tr>\n",
       "    <tr>\n",
       "      <td>1</td>\n",
       "      <td>15-0002</td>\n",
       "      <td>2015-01-05</td>\n",
       "      <td>1900</td>\n",
       "      <td>DEPARTMENTAL VIOLATIONS</td>\n",
       "      <td>According to the complainant, on 12-31-14 at 8...</td>\n",
       "    </tr>\n",
       "    <tr>\n",
       "      <td>2</td>\n",
       "      <td>15-0003</td>\n",
       "      <td>2015-01-05</td>\n",
       "      <td>1800</td>\n",
       "      <td>LACK OF SERVICE</td>\n",
       "      <td>According to the complainant, on 1-1-15 at 7:0...</td>\n",
       "    </tr>\n",
       "    <tr>\n",
       "      <td>3</td>\n",
       "      <td>15-0004</td>\n",
       "      <td>2015-01-06</td>\n",
       "      <td>3900</td>\n",
       "      <td>DEPARTMENTAL VIOLATIONS</td>\n",
       "      <td>According to the complainant, on 12-31-14 at 2...</td>\n",
       "    </tr>\n",
       "    <tr>\n",
       "      <td>4</td>\n",
       "      <td>15-0005</td>\n",
       "      <td>2015-01-07</td>\n",
       "      <td>3900</td>\n",
       "      <td>PHYSICAL ABUSE</td>\n",
       "      <td>According to the complainant, on 1-2-15 at 1:3...</td>\n",
       "    </tr>\n",
       "  </tbody>\n",
       "</table>\n",
       "</div>"
      ],
      "text/plain": [
       "  complaint_id date_received district_occurrence general_cap_classification  \\\n",
       "0      15-0001    2015-01-05                1500    DEPARTMENTAL VIOLATIONS   \n",
       "1      15-0002    2015-01-05                1900    DEPARTMENTAL VIOLATIONS   \n",
       "2      15-0003    2015-01-05                1800            LACK OF SERVICE   \n",
       "3      15-0004    2015-01-06                3900    DEPARTMENTAL VIOLATIONS   \n",
       "4      15-0005    2015-01-07                3900             PHYSICAL ABUSE   \n",
       "\n",
       "                                             summary  \n",
       "0  According to the complainant, on 12-31-14 at 1...  \n",
       "1  According to the complainant, on 12-31-14 at 8...  \n",
       "2  According to the complainant, on 1-1-15 at 7:0...  \n",
       "3  According to the complainant, on 12-31-14 at 2...  \n",
       "4  According to the complainant, on 1-2-15 at 1:3...  "
      ]
     },
     "execution_count": 2,
     "metadata": {},
     "output_type": "execute_result"
    }
   ],
   "source": [
    "import pandas as pd\n",
    "\n",
    "url1 = 'https://phl.carto.com/api/v2/sql?q=SELECT+*+FROM+ppd_complaints&filename=ppd_complaints&format=csv&skipfields=cartodb_id,the_geom,the_geom_webmercator'\n",
    "url2 = 'https://phl.carto.com/api/v2/sql?q=SELECT+*+FROM+ppd_complaint_disciplines&filename=ppd_complaint_disciplines&format=csv&skipfields=cartodb_id,the_geom,the_geom_webmercator'\n",
    "url3 = 'https://phl.carto.com/api/v2/sql?q=SELECT+*+FROM+ppd_complainant_demographics&filename=ppd_complainant_demographics&format=csv&skipfields=cartodb_id,the_geom,the_geom_webmercator'\n",
    "\n",
    "#complaint data\n",
    "df_complaints = pd.read_csv(url1)\n",
    "print(df_complaints.columns)\n",
    "df_complaints.head()\n",
    "\n",
    "#outcome of complaint data\n",
    "df_outcome = pd.read_csv(url2)\n",
    "df_outcomes = pd.read_csv(url1)\n",
    "print(df_outcomes.columns)\n",
    "df_outcomes.head()\n",
    "\n",
    "#complaint demographic data\n",
    "df_outcome = pd.read_csv(url2)\n",
    "df_outcomes = pd.read_csv(url1)\n",
    "print(df_outcomes.columns)\n",
    "df_outcomes.head()"
   ]
  },
  {
   "cell_type": "code",
   "execution_count": null,
   "metadata": {},
   "outputs": [],
   "source": []
  }
 ],
 "metadata": {
  "kernelspec": {
   "display_name": "Python 3",
   "language": "python",
   "name": "python3"
  },
  "language_info": {
   "codemirror_mode": {
    "name": "ipython",
    "version": 3
   },
   "file_extension": ".py",
   "mimetype": "text/x-python",
   "name": "python",
   "nbconvert_exporter": "python",
   "pygments_lexer": "ipython3",
   "version": "3.7.4"
  }
 },
 "nbformat": 4,
 "nbformat_minor": 4
}
